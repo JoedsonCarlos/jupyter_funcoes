{
 "cells": [
  {
   "cell_type": "markdown",
   "id": "aff8dcf0",
   "metadata": {},
   "source": [
    "# Funções"
   ]
  },
  {
   "cell_type": "code",
   "execution_count": null,
   "id": "ee62c7e4",
   "metadata": {},
   "outputs": [],
   "source": [
    "# a documentação estar em (docs.phython.org/3/library//functions.html)"
   ]
  },
  {
   "cell_type": "code",
   "execution_count": 1,
   "id": "d19a368a",
   "metadata": {},
   "outputs": [],
   "source": [
    "texto=\"estudando para cada dis melhorar no aprendizado e avançar na vida\""
   ]
  },
  {
   "cell_type": "code",
   "execution_count": 2,
   "id": "62554e48",
   "metadata": {},
   "outputs": [
    {
     "name": "stdout",
     "output_type": "stream",
     "text": [
      "estudando para cada dis melhorar no aprendizado e avançar na vida\n"
     ]
    }
   ],
   "source": [
    "print(texto)"
   ]
  },
  {
   "cell_type": "code",
   "execution_count": 3,
   "id": "a0e3293c",
   "metadata": {},
   "outputs": [
    {
     "data": {
      "text/plain": [
       "65"
      ]
     },
     "execution_count": 3,
     "metadata": {},
     "output_type": "execute_result"
    }
   ],
   "source": [
    "# mostra a quantidade de caracter existe\n",
    "len(texto)"
   ]
  },
  {
   "cell_type": "code",
   "execution_count": 4,
   "id": "2a1de53c",
   "metadata": {},
   "outputs": [],
   "source": [
    "import math"
   ]
  },
  {
   "cell_type": "code",
   "execution_count": 5,
   "id": "f793d47e",
   "metadata": {},
   "outputs": [],
   "source": [
    "square_root= math.sqrt(81) # clcula a raiz "
   ]
  },
  {
   "cell_type": "code",
   "execution_count": 6,
   "id": "ec371a72",
   "metadata": {},
   "outputs": [
    {
     "data": {
      "text/plain": [
       "9.0"
      ]
     },
     "execution_count": 6,
     "metadata": {},
     "output_type": "execute_result"
    }
   ],
   "source": [
    "square_root"
   ]
  },
  {
   "cell_type": "code",
   "execution_count": 7,
   "id": "55abb21a",
   "metadata": {},
   "outputs": [],
   "source": [
    "power= pow(3,5)# calcula a potência"
   ]
  },
  {
   "cell_type": "code",
   "execution_count": 8,
   "id": "0c0a2fdd",
   "metadata": {},
   "outputs": [
    {
     "data": {
      "text/plain": [
       "243"
      ]
     },
     "execution_count": 8,
     "metadata": {},
     "output_type": "execute_result"
    }
   ],
   "source": [
    "power"
   ]
  },
  {
   "cell_type": "markdown",
   "id": "0cb04f8d",
   "metadata": {},
   "source": [
    "# FUNÇÃO DEF\n"
   ]
  },
  {
   "cell_type": "code",
   "execution_count": 9,
   "id": "ed187535",
   "metadata": {},
   "outputs": [],
   "source": [
    "def teste():\n",
    "    print(\"testando a função\")"
   ]
  },
  {
   "cell_type": "code",
   "execution_count": 11,
   "id": "426214ec",
   "metadata": {},
   "outputs": [
    {
     "name": "stdout",
     "output_type": "stream",
     "text": [
      "testando a função\n"
     ]
    }
   ],
   "source": [
    "teste()"
   ]
  },
  {
   "cell_type": "code",
   "execution_count": 27,
   "id": "e7fb83a8",
   "metadata": {},
   "outputs": [],
   "source": [
    "# função com parâmetro\n",
    "def func_nome(nome):\n",
    "    print(nome+'! até aqui nos ajudou o senhor!')"
   ]
  },
  {
   "cell_type": "code",
   "execution_count": 28,
   "id": "1e7321a2",
   "metadata": {},
   "outputs": [
    {
     "name": "stdout",
     "output_type": "stream",
     "text": [
      "Carlos! até aqui nos ajudou o senhor!\n"
     ]
    }
   ],
   "source": [
    "func_nome('Carlos')"
   ]
  },
  {
   "cell_type": "code",
   "execution_count": 40,
   "id": "f5021056",
   "metadata": {},
   "outputs": [],
   "source": [
    "def soma(x=0,y=0):\n",
    "    return \" a soma é: \" , x+y"
   ]
  },
  {
   "cell_type": "code",
   "execution_count": 41,
   "id": "9ac15635",
   "metadata": {},
   "outputs": [
    {
     "data": {
      "text/plain": [
       "(' a soma é: ', 7)"
      ]
     },
     "execution_count": 41,
     "metadata": {},
     "output_type": "execute_result"
    }
   ],
   "source": [
    "soma(3,4)"
   ]
  },
  {
   "cell_type": "code",
   "execution_count": 42,
   "id": "dd65fe91",
   "metadata": {},
   "outputs": [],
   "source": [
    "# funções inteirando listas\n",
    "\n",
    "def my_func(lista):\n",
    "    for c in lista:\n",
    "        print(c)"
   ]
  },
  {
   "cell_type": "code",
   "execution_count": 48,
   "id": "b03ecd8e",
   "metadata": {},
   "outputs": [],
   "source": [
    "lista=['carlos', 'joedson', 'igor','juan','ysa']"
   ]
  },
  {
   "cell_type": "code",
   "execution_count": 49,
   "id": "c31668f5",
   "metadata": {},
   "outputs": [
    {
     "name": "stdout",
     "output_type": "stream",
     "text": [
      "carlos\n",
      "joedson\n",
      "igor\n",
      "juan\n",
      "ysa\n"
     ]
    }
   ],
   "source": [
    "my_func(lista)"
   ]
  },
  {
   "cell_type": "code",
   "execution_count": 50,
   "id": "879dbb59",
   "metadata": {},
   "outputs": [],
   "source": [
    "# argumentos arbritarios, *args para quando não sabemos o tamanho da lista\n",
    "def fun_tec(*dados):\n",
    "    for i in dados:\n",
    "        print('\\n ', i)\n"
   ]
  },
  {
   "cell_type": "code",
   "execution_count": 54,
   "id": "7b45f139",
   "metadata": {},
   "outputs": [
    {
     "name": "stdout",
     "output_type": "stream",
     "text": [
      "\n",
      "  ['carlos', 'joedson', 'igor', 'juan', 'ysa']\n"
     ]
    }
   ],
   "source": [
    "fun_tec(lista)"
   ]
  },
  {
   "cell_type": "markdown",
   "id": "2e0c58a6",
   "metadata": {},
   "source": [
    "# Função Lambda\n"
   ]
  },
  {
   "cell_type": "code",
   "execution_count": 55,
   "id": "e09b8c00",
   "metadata": {},
   "outputs": [],
   "source": [
    "soma= lambda x,y: x+y"
   ]
  },
  {
   "cell_type": "code",
   "execution_count": 56,
   "id": "dcca7461",
   "metadata": {},
   "outputs": [
    {
     "data": {
      "text/plain": [
       "19"
      ]
     },
     "execution_count": 56,
     "metadata": {},
     "output_type": "execute_result"
    }
   ],
   "source": [
    "soma(9,10)"
   ]
  },
  {
   "cell_type": "code",
   "execution_count": 57,
   "id": "8c146803",
   "metadata": {},
   "outputs": [],
   "source": [
    "x= lambda a: a*9\n"
   ]
  },
  {
   "cell_type": "code",
   "execution_count": 59,
   "id": "83c4f471",
   "metadata": {},
   "outputs": [
    {
     "name": "stdout",
     "output_type": "stream",
     "text": [
      "90\n"
     ]
    }
   ],
   "source": [
    "\n",
    "print(x(10))"
   ]
  },
  {
   "cell_type": "code",
   "execution_count": 60,
   "id": "4a044926",
   "metadata": {},
   "outputs": [
    {
     "data": {
      "text/plain": [
       "81"
      ]
     },
     "execution_count": 60,
     "metadata": {},
     "output_type": "execute_result"
    }
   ],
   "source": [
    "x(9)"
   ]
  },
  {
   "cell_type": "markdown",
   "id": "c38db4ef",
   "metadata": {},
   "source": [
    "# Função Lambda com DEF"
   ]
  },
  {
   "cell_type": "code",
   "execution_count": 75,
   "id": "3c9e419e",
   "metadata": {},
   "outputs": [],
   "source": [
    "def my_func(n): # só dar certo de colocar n no parametro pois outra letra não dar certo\n",
    "    return lambda  c: c*n"
   ]
  },
  {
   "cell_type": "code",
   "execution_count": 76,
   "id": "78eb34ca",
   "metadata": {},
   "outputs": [],
   "source": [
    "digit = my_func(5)"
   ]
  },
  {
   "cell_type": "code",
   "execution_count": 77,
   "id": "95926416",
   "metadata": {},
   "outputs": [
    {
     "data": {
      "text/plain": [
       "150"
      ]
     },
     "execution_count": 77,
     "metadata": {},
     "output_type": "execute_result"
    }
   ],
   "source": [
    "digit(30)"
   ]
  },
  {
   "cell_type": "markdown",
   "id": "27d0b2ec",
   "metadata": {},
   "source": [
    "# list comprehensions"
   ]
  },
  {
   "cell_type": "code",
   "execution_count": null,
   "id": "27b697d4",
   "metadata": {},
   "outputs": [],
   "source": [
    "lista=['carlos', 'joedson', 'igor','juan','ysa']"
   ]
  },
  {
   "cell_type": "code",
   "execution_count": 80,
   "id": "a37de591",
   "metadata": {},
   "outputs": [],
   "source": [
    "newlist=[]\n",
    "\n",
    "for i in lista:\n",
    "    if \"car\" in i:\n",
    "        newlist.append(i)\n",
    "\n"
   ]
  },
  {
   "cell_type": "code",
   "execution_count": 79,
   "id": "e88281da",
   "metadata": {},
   "outputs": [
    {
     "name": "stdout",
     "output_type": "stream",
     "text": [
      "['carlos']\n"
     ]
    }
   ],
   "source": [
    "print(newlist)"
   ]
  },
  {
   "cell_type": "code",
   "execution_count": 81,
   "id": "3b42f50c",
   "metadata": {},
   "outputs": [],
   "source": [
    "# melhorando o codigo\n",
    "newlist = [x for x in lista if \"car\" in x ]"
   ]
  },
  {
   "cell_type": "code",
   "execution_count": 83,
   "id": "807a3bf2",
   "metadata": {},
   "outputs": [
    {
     "name": "stdout",
     "output_type": "stream",
     "text": [
      "['carlos']\n"
     ]
    }
   ],
   "source": [
    "print(newlist)"
   ]
  },
  {
   "cell_type": "code",
   "execution_count": null,
   "id": "9ec5a070",
   "metadata": {},
   "outputs": [],
   "source": []
  }
 ],
 "metadata": {
  "kernelspec": {
   "display_name": "Python 3 (ipykernel)",
   "language": "python",
   "name": "python3"
  },
  "language_info": {
   "codemirror_mode": {
    "name": "ipython",
    "version": 3
   },
   "file_extension": ".py",
   "mimetype": "text/x-python",
   "name": "python",
   "nbconvert_exporter": "python",
   "pygments_lexer": "ipython3",
   "version": "3.8.16"
  }
 },
 "nbformat": 4,
 "nbformat_minor": 5
}
